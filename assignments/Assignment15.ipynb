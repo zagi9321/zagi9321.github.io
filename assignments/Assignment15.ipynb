{
  "cells": [
    {
      "cell_type": "markdown",
      "metadata": {
        "colab_type": "text",
        "id": "view-in-github"
      },
      "source": [
        "<a href=\"https://colab.research.google.com/github/zagi9321/zagi9321.github.io/blob/main/Assignment15.ipynb\" target=\"_parent\"><img src=\"https://colab.research.google.com/assets/colab-badge.svg\" alt=\"Open In Colab\"/></a>"
      ]
    },
    {
      "cell_type": "markdown",
      "metadata": {
        "id": "2QESRbyK731U"
      },
      "source": [
        "## Assignment 15"
      ]
    },
    {
      "cell_type": "markdown",
      "metadata": {
        "id": "fvws--Qn8ALT"
      },
      "source": [
        "### Imports\n",
        "\n",
        "Don't touch these; we need them for the scraper to work correctly."
      ]
    },
    {
      "cell_type": "code",
      "execution_count": 1,
      "metadata": {
        "id": "1w8eCSaj73Xh"
      },
      "outputs": [],
      "source": [
        "from urllib.request import urlopen\n",
        "from bs4 import BeautifulSoup"
      ]
    },
    {
      "cell_type": "markdown",
      "metadata": {
        "id": "ObNR62I78I3C"
      },
      "source": [
        "### Getting the URL\n",
        "\n",
        "In the next cell, place the code to open the URL, and assign it to a variable."
      ]
    },
    {
      "cell_type": "code",
      "execution_count": 5,
      "metadata": {
        "id": "GkVWBZ5s8RTT"
      },
      "outputs": [],
      "source": [
        "url = \"https://worldpopulationreview.com/countries\"\n",
        "html = urlopen(url)"
      ]
    },
    {
      "cell_type": "markdown",
      "metadata": {
        "id": "jB_g4DTK8SgM"
      },
      "source": [
        "### Making the Soup\n",
        "\n",
        "In the next cell, place the code to make the soup."
      ]
    },
    {
      "cell_type": "code",
      "execution_count": 6,
      "metadata": {
        "id": "6PbrmzzS8W2D"
      },
      "outputs": [],
      "source": [
        "soup = BeautifulSoup(html,'html')"
      ]
    },
    {
      "cell_type": "markdown",
      "metadata": {
        "id": "6PfPLJ3G8X2a"
      },
      "source": [
        "### Country Name\n",
        "\n",
        "In the next cell, put the code to scrape the name of the country you selected (it cannot be Andorra or Zimbabwe). After you scrape the country's name, print it as a string."
      ]
    },
    {
      "cell_type": "code",
      "execution_count": 7,
      "metadata": {
        "colab": {
          "base_uri": "https://localhost:8080/"
        },
        "id": "zJzGfr6-8sVr",
        "outputId": "aca1f9fd-3fd6-4916-c199-3d88da28ed19"
      },
      "outputs": [
        {
          "name": "stdout",
          "output_type": "stream",
          "text": [
            "1\n"
          ]
        }
      ],
      "source": [
        "countryName = soup.find()\n",
        "print(countryName)"
      ]
    },
    {
      "cell_type": "markdown",
      "metadata": {
        "id": "ISAcFbWa8t7R"
      },
      "source": [
        "### Country Capital\n",
        "\n",
        "In the next cell, put the code to scrape the name of the capital of the country you selected. After you scrape the country's capital's name, print it as a string."
      ]
    },
    {
      "cell_type": "code",
      "execution_count": null,
      "metadata": {
        "id": "5XUFuLAp815H"
      },
      "outputs": [],
      "source": [
        "# Code here."
      ]
    },
    {
      "cell_type": "markdown",
      "metadata": {
        "id": "U0tmmp-y84Zr"
      },
      "source": [
        "### Country Population\n",
        "\n",
        "In the next cell, put the code to scrape the population of the country you selected. After you scrape the country's population, print it as a string."
      ]
    },
    {
      "cell_type": "code",
      "execution_count": null,
      "metadata": {
        "id": "4BuQEtYS9FZY"
      },
      "outputs": [],
      "source": [
        "# Code here."
      ]
    },
    {
      "cell_type": "markdown",
      "metadata": {
        "id": "coOJuuuI9GvG"
      },
      "source": [
        "### Country Area\n",
        "\n",
        "In the next cell, put the code to scrape the geographic size of the country you selected. After you scrape the country's size, print it as a string."
      ]
    },
    {
      "cell_type": "code",
      "execution_count": null,
      "metadata": {
        "id": "-gOdrVoF9Lyy"
      },
      "outputs": [],
      "source": [
        "# Code here."
      ]
    }
  ],
  "metadata": {
    "colab": {
      "include_colab_link": true,
      "name": "Assignment15",
      "provenance": []
    },
    "kernelspec": {
      "display_name": "Python 3",
      "name": "python3"
    },
    "language_info": {
      "codemirror_mode": {
        "name": "ipython",
        "version": 3
      },
      "file_extension": ".py",
      "mimetype": "text/x-python",
      "name": "python",
      "nbconvert_exporter": "python",
      "pygments_lexer": "ipython3",
      "version": "3.8.9"
    }
  },
  "nbformat": 4,
  "nbformat_minor": 0
}
